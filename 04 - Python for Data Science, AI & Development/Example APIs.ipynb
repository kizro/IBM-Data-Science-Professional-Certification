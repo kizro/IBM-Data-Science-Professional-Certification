{
 "cells": [
  {
   "cell_type": "markdown",
   "metadata": {},
   "source": [
    "<center>\n",
    "    <img src=\"https://cf-courses-data.s3.us.cloud-object-storage.appdomain.cloud/assets/logos/SN_web_lightmode.png\" width=\"300\" alt=\"cognitiveclass.ai logo\">\n",
    "</center>\n",
    "\n",
    "# Hands-on Lab: API Examples\n",
    "## Random User and Fruityvice API Examples\n",
    "\n",
    "\n",
    "Estimated time needed: **30** minutes\n",
    "\n",
    "## Objectives\n",
    "\n",
    "After completing this lab you will be able to:\n",
    "\n",
    "*   Load and use RandomUser API, using `RandomUser()` Python library\n",
    "*   Load and use Fruityvice API, using `requests` Python library\n",
    "*   Load and use Open-Joke-API, using `requests` Python library\n",
    "\n"
   ]
  },
  {
   "cell_type": "markdown",
   "metadata": {},
   "source": [
    "The purpose of this notebook is to provide more examples on how to use simple APIs. As you have already learned from previous videos and notebooks, API stands for Application Programming Interface and is a software intermediary that allows two applications to talk to each other. \n",
    "\n",
    "The advantages of using APIs:\n",
    " *   **Automation**. Less human effort is required and workflows can be easily updated to become faster and more      \n",
    "     productive.\n",
    " *   **Efficiency**. It allows to use the capabilities of one of the already developed APIs than to try to \n",
    "     independently implement some functionality from scratch.\n",
    " \n",
    "The disadvantage of using APIs:\n",
    " *   **Security**. If the API is poorly integrated, it means it will be vulnerable to attacks, resulting in data breeches or losses having financial or reputation implications.\n",
    "\n",
    "One of the applications we will use in this notebook is Random User Generator. RandomUser is an open-source, free API providing developers with randomly generated users to be used as placeholders for testing purposes. This makes the tool similar to Lorem Ipsum, but is a placeholder for people instead of text. The API can return multiple results, as well as specify generated user details such as gender, email, image, username, address, title, first and last name, and more. More information on [RandomUser](https://randomuser.me/documentation#intro) can be found here.\n",
    "\n",
    "Another example of simple API we will use in this notebook is Fruityvice application. The Fruityvice API web service which provides data for all kinds of fruit! You can use Fruityvice to find out interesting information about fruit and educate yourself. The web service is completely free to use and contribute to.\n"
   ]
  },
  {
   "cell_type": "markdown",
   "metadata": {},
   "source": [
    "## Example 1: RandomUser API\n",
    "Bellow are Get Methods parameters that we can generate. For more information on the parameters, please visit this [documentation](https://randomuser.me/documentation) page.\n"
   ]
  },
  {
   "cell_type": "markdown",
   "metadata": {},
   "source": [
    "## **Get Methods**\n",
    "\n",
    "- get_cell()\n",
    "- get_city()\n",
    "- get_dob()\n",
    "- get_email()\n",
    "- get_first_name()\n",
    "- get_full_name()\n",
    "- get_gender()\n",
    "- get_id()\n",
    "- get_id_number()\n",
    "- get_id_type()\n",
    "- get_info()\n",
    "- get_last_name()\n",
    "- get_login_md5()\n",
    "- get_login_salt()\n",
    "- get_login_sha1()\n",
    "- get_login_sha256()\n",
    "- get_nat()\n",
    "- get_password()\n",
    "- get_phone()\n",
    "- get_picture()\n",
    "- get_postcode()\n",
    "- get_registered()\n",
    "- get_state()\n",
    "- get_street()\n",
    "- get_username()\n",
    "- get_zipcode()\n"
   ]
  },
  {
   "cell_type": "markdown",
   "metadata": {},
   "source": [
    "To start using the API you can install the `randomuser` library running the `pip install` command.\n"
   ]
  },
  {
   "cell_type": "code",
   "execution_count": 1,
   "metadata": {},
   "outputs": [
    {
     "name": "stdout",
     "output_type": "stream",
     "text": [
      "Collecting randomuser\n",
      "  Downloading randomuser-1.6.tar.gz (5.0 kB)\n",
      "  Preparing metadata (setup.py) ... \u001b[?25ldone\n",
      "\u001b[?25hBuilding wheels for collected packages: randomuser\n",
      "  Building wheel for randomuser (setup.py) ... \u001b[?25ldone\n",
      "\u001b[?25h  Created wheel for randomuser: filename=randomuser-1.6-py3-none-any.whl size=5066 sha256=d5b720a76b0748cf9ee012b6bfd75b1244bc768c03d7e861269190df9a78eff7\n",
      "  Stored in directory: /home/jupyterlab/.cache/pip/wheels/21/10/7b/c13bc3e24a3c1000a34554802ad8aa0ff27df56366998a0473\n",
      "Successfully built randomuser\n",
      "Installing collected packages: randomuser\n",
      "Successfully installed randomuser-1.6\n"
     ]
    }
   ],
   "source": [
    "!pip install randomuser"
   ]
  },
  {
   "cell_type": "markdown",
   "metadata": {},
   "source": [
    "Then, we will load the necessary libraries.\n"
   ]
  },
  {
   "cell_type": "code",
   "execution_count": 2,
   "metadata": {},
   "outputs": [],
   "source": [
    "from randomuser import RandomUser\n",
    "import pandas as pd"
   ]
  },
  {
   "cell_type": "markdown",
   "metadata": {},
   "source": [
    "First, we will create a random user object, r.\n"
   ]
  },
  {
   "cell_type": "code",
   "execution_count": 3,
   "metadata": {},
   "outputs": [],
   "source": [
    "r = RandomUser()"
   ]
  },
  {
   "cell_type": "markdown",
   "metadata": {},
   "source": [
    "Then, using `generate_users()` function, we get a list of random 10 users.\n"
   ]
  },
  {
   "cell_type": "code",
   "execution_count": 4,
   "metadata": {},
   "outputs": [],
   "source": [
    "some_list = r.generate_users(10)"
   ]
  },
  {
   "cell_type": "code",
   "execution_count": 5,
   "metadata": {},
   "outputs": [
    {
     "data": {
      "text/plain": [
       "[<randomuser.RandomUser at 0x7f06a7f7e710>,\n",
       " <randomuser.RandomUser at 0x7f06a7f7e750>,\n",
       " <randomuser.RandomUser at 0x7f06a7f7e790>,\n",
       " <randomuser.RandomUser at 0x7f06a7f7e7d0>,\n",
       " <randomuser.RandomUser at 0x7f06a7f7e810>,\n",
       " <randomuser.RandomUser at 0x7f06a7f7e890>,\n",
       " <randomuser.RandomUser at 0x7f06a7f7e8d0>,\n",
       " <randomuser.RandomUser at 0x7f06a7f7e910>,\n",
       " <randomuser.RandomUser at 0x7f06a7f7e950>,\n",
       " <randomuser.RandomUser at 0x7f06a7f7e850>]"
      ]
     },
     "execution_count": 5,
     "metadata": {},
     "output_type": "execute_result"
    }
   ],
   "source": [
    "some_list"
   ]
  },
  {
   "cell_type": "markdown",
   "metadata": {},
   "source": [
    "The **\"Get Methods\"** functions mentioned at the beginning of this notebook, can generate the required parameters to construct a dataset. For example, to get full name, we call `get_full_name()` function.\n"
   ]
  },
  {
   "cell_type": "code",
   "execution_count": null,
   "metadata": {},
   "outputs": [],
   "source": [
    "name = r.get_full_name()"
   ]
  },
  {
   "cell_type": "markdown",
   "metadata": {},
   "source": [
    "Let's say we only need 10 users with full names and their email addresses. We can write a \"for-loop\" to print these 10 users.\n"
   ]
  },
  {
   "cell_type": "code",
   "execution_count": null,
   "metadata": {},
   "outputs": [],
   "source": [
    "for user in some_list:\n",
    "    print (user.get_full_name(),\" \",user.get_email())"
   ]
  },
  {
   "cell_type": "markdown",
   "metadata": {},
   "source": [
    "## Exercise 1\n",
    "In this Exercise, generate photos of the random 10 users.\n"
   ]
  },
  {
   "cell_type": "code",
   "execution_count": null,
   "metadata": {},
   "outputs": [],
   "source": [
    "## Write your code here\n"
   ]
  },
  {
   "cell_type": "markdown",
   "metadata": {},
   "source": [
    "<details><summary>Click here for the solution</summary>\n",
    "\n",
    "```python\n",
    "for user in some_list:\n",
    "    print (user.get_picture())\n",
    "```\n",
    "\n",
    "</details>\n"
   ]
  },
  {
   "cell_type": "markdown",
   "metadata": {},
   "source": [
    "To generate a table with information about the users, we can write a function containing all desirable parameters. For example, name, gender, city, etc. The parameters will depend on the requirements of the test to be performed. We call the Get Methods, listed at the beginning of this notebook. Then, we return pandas dataframe with the users.\n"
   ]
  },
  {
   "cell_type": "code",
   "execution_count": null,
   "metadata": {},
   "outputs": [],
   "source": [
    "def get_users():\n",
    "    users =[]\n",
    "     \n",
    "    for user in RandomUser.generate_users(10):\n",
    "        users.append({\"Name\":user.get_full_name(),\"Gender\":user.get_gender(),\"City\":user.get_city(),\"State\":user.get_state(),\"Email\":user.get_email(), \"DOB\":user.get_dob(),\"Picture\":user.get_picture()})\n",
    "      \n",
    "    return pd.DataFrame(users)     "
   ]
  },
  {
   "cell_type": "code",
   "execution_count": null,
   "metadata": {},
   "outputs": [],
   "source": [
    "get_users()"
   ]
  },
  {
   "cell_type": "code",
   "execution_count": null,
   "metadata": {},
   "outputs": [],
   "source": [
    "df1 = pd.DataFrame(get_users())  "
   ]
  },
  {
   "cell_type": "markdown",
   "metadata": {},
   "source": [
    "Now we have a *pandas* dataframe that can be used for any testing purposes that the tester might have.\n"
   ]
  },
  {
   "cell_type": "markdown",
   "metadata": {},
   "source": [
    "## Example 2: Fruityvice API\n",
    "\n",
    "Another, more common way to use APIs, is through `requests` library. The next lab, Requests and HTTP, will contain more information about requests.\n",
    "\n",
    "We will start by importing all required libraries.\n"
   ]
  },
  {
   "cell_type": "code",
   "execution_count": 7,
   "metadata": {},
   "outputs": [],
   "source": [
    "import requests\n",
    "import json"
   ]
  },
  {
   "cell_type": "markdown",
   "metadata": {},
   "source": [
    "We will obtain the [fruityvice](https://www.fruityvice.com) API data using `requests.get(\"url\")` function. The data is in a json format.\n"
   ]
  },
  {
   "cell_type": "code",
   "execution_count": 9,
   "metadata": {},
   "outputs": [],
   "source": [
    "data = requests.get(\"https://fruityvice.com/api/fruit/all\")"
   ]
  },
  {
   "cell_type": "markdown",
   "metadata": {},
   "source": [
    "We will retrieve results using `json.loads()` function.\n"
   ]
  },
  {
   "cell_type": "code",
   "execution_count": 10,
   "metadata": {},
   "outputs": [],
   "source": [
    "results = json.loads(data.text)"
   ]
  },
  {
   "cell_type": "markdown",
   "metadata": {},
   "source": [
    "We will convert our json data into *pandas* data frame. \n"
   ]
  },
  {
   "cell_type": "code",
   "execution_count": 11,
   "metadata": {},
   "outputs": [
    {
     "data": {
      "text/html": [
       "<div>\n",
       "<style scoped>\n",
       "    .dataframe tbody tr th:only-of-type {\n",
       "        vertical-align: middle;\n",
       "    }\n",
       "\n",
       "    .dataframe tbody tr th {\n",
       "        vertical-align: top;\n",
       "    }\n",
       "\n",
       "    .dataframe thead th {\n",
       "        text-align: right;\n",
       "    }\n",
       "</style>\n",
       "<table border=\"1\" class=\"dataframe\">\n",
       "  <thead>\n",
       "    <tr style=\"text-align: right;\">\n",
       "      <th></th>\n",
       "      <th>name</th>\n",
       "      <th>id</th>\n",
       "      <th>family</th>\n",
       "      <th>order</th>\n",
       "      <th>genus</th>\n",
       "      <th>nutritions</th>\n",
       "    </tr>\n",
       "  </thead>\n",
       "  <tbody>\n",
       "    <tr>\n",
       "      <th>0</th>\n",
       "      <td>Persimmon</td>\n",
       "      <td>52</td>\n",
       "      <td>Ebenaceae</td>\n",
       "      <td>Rosales</td>\n",
       "      <td>Diospyros</td>\n",
       "      <td>{'calories': 81, 'fat': 0.0, 'sugar': 18.0, 'c...</td>\n",
       "    </tr>\n",
       "    <tr>\n",
       "      <th>1</th>\n",
       "      <td>Strawberry</td>\n",
       "      <td>3</td>\n",
       "      <td>Rosaceae</td>\n",
       "      <td>Rosales</td>\n",
       "      <td>Fragaria</td>\n",
       "      <td>{'calories': 29, 'fat': 0.4, 'sugar': 5.4, 'ca...</td>\n",
       "    </tr>\n",
       "    <tr>\n",
       "      <th>2</th>\n",
       "      <td>Banana</td>\n",
       "      <td>1</td>\n",
       "      <td>Musaceae</td>\n",
       "      <td>Zingiberales</td>\n",
       "      <td>Musa</td>\n",
       "      <td>{'calories': 96, 'fat': 0.2, 'sugar': 17.2, 'c...</td>\n",
       "    </tr>\n",
       "    <tr>\n",
       "      <th>3</th>\n",
       "      <td>Tomato</td>\n",
       "      <td>5</td>\n",
       "      <td>Solanaceae</td>\n",
       "      <td>Solanales</td>\n",
       "      <td>Solanum</td>\n",
       "      <td>{'calories': 74, 'fat': 0.2, 'sugar': 2.6, 'ca...</td>\n",
       "    </tr>\n",
       "    <tr>\n",
       "      <th>4</th>\n",
       "      <td>Pear</td>\n",
       "      <td>4</td>\n",
       "      <td>Rosaceae</td>\n",
       "      <td>Rosales</td>\n",
       "      <td>Pyrus</td>\n",
       "      <td>{'calories': 57, 'fat': 0.1, 'sugar': 10.0, 'c...</td>\n",
       "    </tr>\n",
       "    <tr>\n",
       "      <th>5</th>\n",
       "      <td>Durian</td>\n",
       "      <td>60</td>\n",
       "      <td>Malvaceae</td>\n",
       "      <td>Malvales</td>\n",
       "      <td>Durio</td>\n",
       "      <td>{'calories': 147, 'fat': 5.3, 'sugar': 6.75, '...</td>\n",
       "    </tr>\n",
       "    <tr>\n",
       "      <th>6</th>\n",
       "      <td>Blackberry</td>\n",
       "      <td>64</td>\n",
       "      <td>Rosaceae</td>\n",
       "      <td>Rosales</td>\n",
       "      <td>Rubus</td>\n",
       "      <td>{'calories': 40, 'fat': 0.4, 'sugar': 4.5, 'ca...</td>\n",
       "    </tr>\n",
       "    <tr>\n",
       "      <th>7</th>\n",
       "      <td>Lingonberry</td>\n",
       "      <td>65</td>\n",
       "      <td>Ericaceae</td>\n",
       "      <td>Ericales</td>\n",
       "      <td>Vaccinium</td>\n",
       "      <td>{'calories': 50, 'fat': 0.34, 'sugar': 5.74, '...</td>\n",
       "    </tr>\n",
       "    <tr>\n",
       "      <th>8</th>\n",
       "      <td>Kiwi</td>\n",
       "      <td>66</td>\n",
       "      <td>Actinidiaceae</td>\n",
       "      <td>Struthioniformes</td>\n",
       "      <td>Apteryx</td>\n",
       "      <td>{'calories': 61, 'fat': 0.5, 'sugar': 9.0, 'ca...</td>\n",
       "    </tr>\n",
       "    <tr>\n",
       "      <th>9</th>\n",
       "      <td>Lychee</td>\n",
       "      <td>67</td>\n",
       "      <td>Sapindaceae</td>\n",
       "      <td>Sapindales</td>\n",
       "      <td>Litchi</td>\n",
       "      <td>{'calories': 66, 'fat': 0.44, 'sugar': 15.0, '...</td>\n",
       "    </tr>\n",
       "    <tr>\n",
       "      <th>10</th>\n",
       "      <td>Pineapple</td>\n",
       "      <td>10</td>\n",
       "      <td>Bromeliaceae</td>\n",
       "      <td>Poales</td>\n",
       "      <td>Ananas</td>\n",
       "      <td>{'calories': 50, 'fat': 0.12, 'sugar': 9.85, '...</td>\n",
       "    </tr>\n",
       "    <tr>\n",
       "      <th>11</th>\n",
       "      <td>Fig</td>\n",
       "      <td>68</td>\n",
       "      <td>Moraceae</td>\n",
       "      <td>Rosales</td>\n",
       "      <td>Ficus</td>\n",
       "      <td>{'calories': 74, 'fat': 0.3, 'sugar': 16.0, 'c...</td>\n",
       "    </tr>\n",
       "    <tr>\n",
       "      <th>12</th>\n",
       "      <td>Gooseberry</td>\n",
       "      <td>69</td>\n",
       "      <td>Grossulariaceae</td>\n",
       "      <td>Saxifragales</td>\n",
       "      <td>Ribes</td>\n",
       "      <td>{'calories': 44, 'fat': 0.6, 'sugar': 0.0, 'ca...</td>\n",
       "    </tr>\n",
       "    <tr>\n",
       "      <th>13</th>\n",
       "      <td>Passionfruit</td>\n",
       "      <td>70</td>\n",
       "      <td>Passifloraceae</td>\n",
       "      <td>Malpighiales</td>\n",
       "      <td>Passiflora</td>\n",
       "      <td>{'calories': 97, 'fat': 0.7, 'sugar': 11.2, 'c...</td>\n",
       "    </tr>\n",
       "    <tr>\n",
       "      <th>14</th>\n",
       "      <td>Plum</td>\n",
       "      <td>71</td>\n",
       "      <td>Rosaceae</td>\n",
       "      <td>Rosales</td>\n",
       "      <td>Prunus</td>\n",
       "      <td>{'calories': 46, 'fat': 0.28, 'sugar': 9.92, '...</td>\n",
       "    </tr>\n",
       "    <tr>\n",
       "      <th>15</th>\n",
       "      <td>Orange</td>\n",
       "      <td>2</td>\n",
       "      <td>Rutaceae</td>\n",
       "      <td>Sapindales</td>\n",
       "      <td>Citrus</td>\n",
       "      <td>{'calories': 43, 'fat': 0.2, 'sugar': 8.2, 'ca...</td>\n",
       "    </tr>\n",
       "    <tr>\n",
       "      <th>16</th>\n",
       "      <td>GreenApple</td>\n",
       "      <td>72</td>\n",
       "      <td>Rosaceae</td>\n",
       "      <td>Rosales</td>\n",
       "      <td>Malus</td>\n",
       "      <td>{'calories': 21, 'fat': 0.1, 'sugar': 6.4, 'ca...</td>\n",
       "    </tr>\n",
       "    <tr>\n",
       "      <th>17</th>\n",
       "      <td>Raspberry</td>\n",
       "      <td>23</td>\n",
       "      <td>Rosaceae</td>\n",
       "      <td>Rosales</td>\n",
       "      <td>Rubus</td>\n",
       "      <td>{'calories': 53, 'fat': 0.7, 'sugar': 4.4, 'ca...</td>\n",
       "    </tr>\n",
       "    <tr>\n",
       "      <th>18</th>\n",
       "      <td>Watermelon</td>\n",
       "      <td>25</td>\n",
       "      <td>Cucurbitaceae</td>\n",
       "      <td>Cucurbitales</td>\n",
       "      <td>Citrullus</td>\n",
       "      <td>{'calories': 30, 'fat': 0.2, 'sugar': 6.0, 'ca...</td>\n",
       "    </tr>\n",
       "    <tr>\n",
       "      <th>19</th>\n",
       "      <td>Lemon</td>\n",
       "      <td>26</td>\n",
       "      <td>Rutaceae</td>\n",
       "      <td>Sapindales</td>\n",
       "      <td>Citrus</td>\n",
       "      <td>{'calories': 29, 'fat': 0.3, 'sugar': 2.5, 'ca...</td>\n",
       "    </tr>\n",
       "    <tr>\n",
       "      <th>20</th>\n",
       "      <td>Mango</td>\n",
       "      <td>27</td>\n",
       "      <td>Anacardiaceae</td>\n",
       "      <td>Sapindales</td>\n",
       "      <td>Mangifera</td>\n",
       "      <td>{'calories': 60, 'fat': 0.38, 'sugar': 13.7, '...</td>\n",
       "    </tr>\n",
       "    <tr>\n",
       "      <th>21</th>\n",
       "      <td>Blueberry</td>\n",
       "      <td>33</td>\n",
       "      <td>Rosaceae</td>\n",
       "      <td>Rosales</td>\n",
       "      <td>Fragaria</td>\n",
       "      <td>{'calories': 29, 'fat': 0.4, 'sugar': 5.4, 'ca...</td>\n",
       "    </tr>\n",
       "    <tr>\n",
       "      <th>22</th>\n",
       "      <td>Apple</td>\n",
       "      <td>6</td>\n",
       "      <td>Rosaceae</td>\n",
       "      <td>Rosales</td>\n",
       "      <td>Malus</td>\n",
       "      <td>{'calories': 52, 'fat': 0.4, 'sugar': 10.3, 'c...</td>\n",
       "    </tr>\n",
       "    <tr>\n",
       "      <th>23</th>\n",
       "      <td>Guava</td>\n",
       "      <td>37</td>\n",
       "      <td>Myrtaceae</td>\n",
       "      <td>Myrtales</td>\n",
       "      <td>Psidium</td>\n",
       "      <td>{'calories': 68, 'fat': 1.0, 'sugar': 9.0, 'ca...</td>\n",
       "    </tr>\n",
       "    <tr>\n",
       "      <th>24</th>\n",
       "      <td>Apricot</td>\n",
       "      <td>35</td>\n",
       "      <td>Rosaceae</td>\n",
       "      <td>Rosales</td>\n",
       "      <td>Prunus</td>\n",
       "      <td>{'calories': 15, 'fat': 0.1, 'sugar': 3.2, 'ca...</td>\n",
       "    </tr>\n",
       "    <tr>\n",
       "      <th>25</th>\n",
       "      <td>Papaya</td>\n",
       "      <td>42</td>\n",
       "      <td>Caricaceae</td>\n",
       "      <td>Caricacea</td>\n",
       "      <td>Carica</td>\n",
       "      <td>{'calories': 43, 'fat': 0.4, 'sugar': 1.0, 'ca...</td>\n",
       "    </tr>\n",
       "    <tr>\n",
       "      <th>26</th>\n",
       "      <td>Melon</td>\n",
       "      <td>41</td>\n",
       "      <td>Cucurbitaceae</td>\n",
       "      <td>Cucurbitaceae</td>\n",
       "      <td>Cucumis</td>\n",
       "      <td>{'calories': 34, 'fat': 0.0, 'sugar': 8.0, 'ca...</td>\n",
       "    </tr>\n",
       "    <tr>\n",
       "      <th>27</th>\n",
       "      <td>Tangerine</td>\n",
       "      <td>77</td>\n",
       "      <td>Rutaceae</td>\n",
       "      <td>Sapindales</td>\n",
       "      <td>Citrus</td>\n",
       "      <td>{'calories': 45, 'fat': 0.4, 'sugar': 9.1, 'ca...</td>\n",
       "    </tr>\n",
       "    <tr>\n",
       "      <th>28</th>\n",
       "      <td>Pitahaya</td>\n",
       "      <td>78</td>\n",
       "      <td>Cactaceae</td>\n",
       "      <td>Caryophyllales</td>\n",
       "      <td>Cactaceae</td>\n",
       "      <td>{'calories': 36, 'fat': 0.4, 'sugar': 3.0, 'ca...</td>\n",
       "    </tr>\n",
       "    <tr>\n",
       "      <th>29</th>\n",
       "      <td>Lime</td>\n",
       "      <td>44</td>\n",
       "      <td>Rutaceae</td>\n",
       "      <td>Sapindales</td>\n",
       "      <td>Citrus</td>\n",
       "      <td>{'calories': 25, 'fat': 0.1, 'sugar': 1.7, 'ca...</td>\n",
       "    </tr>\n",
       "    <tr>\n",
       "      <th>30</th>\n",
       "      <td>Pomegranate</td>\n",
       "      <td>79</td>\n",
       "      <td>Lythraceae</td>\n",
       "      <td>Myrtales</td>\n",
       "      <td>Punica</td>\n",
       "      <td>{'calories': 83, 'fat': 1.2, 'sugar': 13.7, 'c...</td>\n",
       "    </tr>\n",
       "    <tr>\n",
       "      <th>31</th>\n",
       "      <td>Dragonfruit</td>\n",
       "      <td>80</td>\n",
       "      <td>Cactaceae</td>\n",
       "      <td>Caryophyllales</td>\n",
       "      <td>Selenicereus</td>\n",
       "      <td>{'calories': 60, 'fat': 1.5, 'sugar': 8.0, 'ca...</td>\n",
       "    </tr>\n",
       "    <tr>\n",
       "      <th>32</th>\n",
       "      <td>Grape</td>\n",
       "      <td>81</td>\n",
       "      <td>Vitaceae</td>\n",
       "      <td>Vitales</td>\n",
       "      <td>Vitis</td>\n",
       "      <td>{'calories': 69, 'fat': 0.16, 'sugar': 16.0, '...</td>\n",
       "    </tr>\n",
       "    <tr>\n",
       "      <th>33</th>\n",
       "      <td>Morus</td>\n",
       "      <td>82</td>\n",
       "      <td>Moraceae</td>\n",
       "      <td>Rosales</td>\n",
       "      <td>Morus</td>\n",
       "      <td>{'calories': 43, 'fat': 0.39, 'sugar': 8.1, 'c...</td>\n",
       "    </tr>\n",
       "    <tr>\n",
       "      <th>34</th>\n",
       "      <td>Feijoa</td>\n",
       "      <td>76</td>\n",
       "      <td>Myrtaceae</td>\n",
       "      <td>Myrtoideae</td>\n",
       "      <td>Sellowiana</td>\n",
       "      <td>{'calories': 44, 'fat': 0.4, 'sugar': 3.0, 'ca...</td>\n",
       "    </tr>\n",
       "    <tr>\n",
       "      <th>35</th>\n",
       "      <td>Avocado</td>\n",
       "      <td>84</td>\n",
       "      <td>Lauraceae</td>\n",
       "      <td>Laurales</td>\n",
       "      <td>Persea</td>\n",
       "      <td>{'calories': 160, 'fat': 14.66, 'sugar': 0.66,...</td>\n",
       "    </tr>\n",
       "    <tr>\n",
       "      <th>36</th>\n",
       "      <td>Kiwifruit</td>\n",
       "      <td>85</td>\n",
       "      <td>Actinidiaceae</td>\n",
       "      <td>Ericales</td>\n",
       "      <td>Actinidia</td>\n",
       "      <td>{'calories': 61, 'fat': 0.5, 'sugar': 8.9, 'ca...</td>\n",
       "    </tr>\n",
       "    <tr>\n",
       "      <th>37</th>\n",
       "      <td>Cranberry</td>\n",
       "      <td>87</td>\n",
       "      <td>Ericaceae</td>\n",
       "      <td>Ericales</td>\n",
       "      <td>Vaccinium</td>\n",
       "      <td>{'calories': 46, 'fat': 0.1, 'sugar': 4.0, 'ca...</td>\n",
       "    </tr>\n",
       "    <tr>\n",
       "      <th>38</th>\n",
       "      <td>Cherry</td>\n",
       "      <td>9</td>\n",
       "      <td>Rosaceae</td>\n",
       "      <td>Rosales</td>\n",
       "      <td>Prunus</td>\n",
       "      <td>{'calories': 50, 'fat': 0.3, 'sugar': 8.0, 'ca...</td>\n",
       "    </tr>\n",
       "    <tr>\n",
       "      <th>39</th>\n",
       "      <td>Peach</td>\n",
       "      <td>86</td>\n",
       "      <td>Rosaceae</td>\n",
       "      <td>Rosales</td>\n",
       "      <td>Prunus</td>\n",
       "      <td>{'calories': 39, 'fat': 0.25, 'sugar': 8.4, 'c...</td>\n",
       "    </tr>\n",
       "    <tr>\n",
       "      <th>40</th>\n",
       "      <td>Jackfruit</td>\n",
       "      <td>94</td>\n",
       "      <td>Moraceae</td>\n",
       "      <td>Rosales</td>\n",
       "      <td>Artocarpus</td>\n",
       "      <td>{'calories': 95, 'fat': 0.0, 'sugar': 19.1, 'c...</td>\n",
       "    </tr>\n",
       "    <tr>\n",
       "      <th>41</th>\n",
       "      <td>Horned Melon</td>\n",
       "      <td>95</td>\n",
       "      <td>Cucurbitaceae</td>\n",
       "      <td>Cucurbitales</td>\n",
       "      <td>Cucumis</td>\n",
       "      <td>{'calories': 44, 'fat': 1.26, 'sugar': 0.5, 'c...</td>\n",
       "    </tr>\n",
       "    <tr>\n",
       "      <th>42</th>\n",
       "      <td>Hazelnut</td>\n",
       "      <td>96</td>\n",
       "      <td>Betulaceae</td>\n",
       "      <td>Fagales</td>\n",
       "      <td>Corylus</td>\n",
       "      <td>{'calories': 628, 'fat': 61.0, 'sugar': 4.3, '...</td>\n",
       "    </tr>\n",
       "    <tr>\n",
       "      <th>43</th>\n",
       "      <td>Pomelo</td>\n",
       "      <td>98</td>\n",
       "      <td>Rutaceae</td>\n",
       "      <td>Sapindales</td>\n",
       "      <td>Citrus</td>\n",
       "      <td>{'calories': 37, 'fat': 0.0, 'sugar': 8.5, 'ca...</td>\n",
       "    </tr>\n",
       "    <tr>\n",
       "      <th>44</th>\n",
       "      <td>Mangosteen</td>\n",
       "      <td>99</td>\n",
       "      <td>Clusiaceae</td>\n",
       "      <td>Malpighiales</td>\n",
       "      <td>Garcinia</td>\n",
       "      <td>{'calories': 73, 'fat': 0.58, 'sugar': 16.11, ...</td>\n",
       "    </tr>\n",
       "  </tbody>\n",
       "</table>\n",
       "</div>"
      ],
      "text/plain": [
       "            name  id           family             order         genus  \\\n",
       "0      Persimmon  52        Ebenaceae           Rosales     Diospyros   \n",
       "1     Strawberry   3         Rosaceae           Rosales      Fragaria   \n",
       "2         Banana   1         Musaceae      Zingiberales          Musa   \n",
       "3         Tomato   5       Solanaceae         Solanales       Solanum   \n",
       "4           Pear   4         Rosaceae           Rosales         Pyrus   \n",
       "5         Durian  60        Malvaceae          Malvales         Durio   \n",
       "6     Blackberry  64         Rosaceae           Rosales         Rubus   \n",
       "7    Lingonberry  65        Ericaceae          Ericales     Vaccinium   \n",
       "8           Kiwi  66    Actinidiaceae  Struthioniformes       Apteryx   \n",
       "9         Lychee  67      Sapindaceae        Sapindales        Litchi   \n",
       "10     Pineapple  10     Bromeliaceae            Poales        Ananas   \n",
       "11           Fig  68         Moraceae           Rosales         Ficus   \n",
       "12    Gooseberry  69  Grossulariaceae      Saxifragales         Ribes   \n",
       "13  Passionfruit  70   Passifloraceae      Malpighiales    Passiflora   \n",
       "14          Plum  71         Rosaceae           Rosales        Prunus   \n",
       "15        Orange   2         Rutaceae        Sapindales        Citrus   \n",
       "16    GreenApple  72         Rosaceae           Rosales         Malus   \n",
       "17     Raspberry  23         Rosaceae           Rosales         Rubus   \n",
       "18    Watermelon  25    Cucurbitaceae      Cucurbitales     Citrullus   \n",
       "19         Lemon  26         Rutaceae        Sapindales        Citrus   \n",
       "20         Mango  27    Anacardiaceae        Sapindales     Mangifera   \n",
       "21     Blueberry  33         Rosaceae           Rosales      Fragaria   \n",
       "22         Apple   6         Rosaceae           Rosales         Malus   \n",
       "23         Guava  37        Myrtaceae          Myrtales       Psidium   \n",
       "24       Apricot  35         Rosaceae           Rosales        Prunus   \n",
       "25        Papaya  42       Caricaceae         Caricacea        Carica   \n",
       "26         Melon  41    Cucurbitaceae     Cucurbitaceae       Cucumis   \n",
       "27     Tangerine  77         Rutaceae        Sapindales        Citrus   \n",
       "28      Pitahaya  78        Cactaceae    Caryophyllales     Cactaceae   \n",
       "29          Lime  44         Rutaceae        Sapindales        Citrus   \n",
       "30   Pomegranate  79       Lythraceae          Myrtales        Punica   \n",
       "31   Dragonfruit  80        Cactaceae    Caryophyllales  Selenicereus   \n",
       "32         Grape  81         Vitaceae           Vitales         Vitis   \n",
       "33         Morus  82         Moraceae           Rosales         Morus   \n",
       "34        Feijoa  76        Myrtaceae        Myrtoideae    Sellowiana   \n",
       "35       Avocado  84        Lauraceae          Laurales        Persea   \n",
       "36     Kiwifruit  85    Actinidiaceae          Ericales     Actinidia   \n",
       "37     Cranberry  87        Ericaceae          Ericales     Vaccinium   \n",
       "38        Cherry   9         Rosaceae           Rosales        Prunus   \n",
       "39         Peach  86         Rosaceae           Rosales        Prunus   \n",
       "40     Jackfruit  94         Moraceae           Rosales    Artocarpus   \n",
       "41  Horned Melon  95    Cucurbitaceae      Cucurbitales       Cucumis   \n",
       "42      Hazelnut  96       Betulaceae           Fagales       Corylus   \n",
       "43        Pomelo  98         Rutaceae        Sapindales        Citrus   \n",
       "44    Mangosteen  99       Clusiaceae      Malpighiales      Garcinia   \n",
       "\n",
       "                                           nutritions  \n",
       "0   {'calories': 81, 'fat': 0.0, 'sugar': 18.0, 'c...  \n",
       "1   {'calories': 29, 'fat': 0.4, 'sugar': 5.4, 'ca...  \n",
       "2   {'calories': 96, 'fat': 0.2, 'sugar': 17.2, 'c...  \n",
       "3   {'calories': 74, 'fat': 0.2, 'sugar': 2.6, 'ca...  \n",
       "4   {'calories': 57, 'fat': 0.1, 'sugar': 10.0, 'c...  \n",
       "5   {'calories': 147, 'fat': 5.3, 'sugar': 6.75, '...  \n",
       "6   {'calories': 40, 'fat': 0.4, 'sugar': 4.5, 'ca...  \n",
       "7   {'calories': 50, 'fat': 0.34, 'sugar': 5.74, '...  \n",
       "8   {'calories': 61, 'fat': 0.5, 'sugar': 9.0, 'ca...  \n",
       "9   {'calories': 66, 'fat': 0.44, 'sugar': 15.0, '...  \n",
       "10  {'calories': 50, 'fat': 0.12, 'sugar': 9.85, '...  \n",
       "11  {'calories': 74, 'fat': 0.3, 'sugar': 16.0, 'c...  \n",
       "12  {'calories': 44, 'fat': 0.6, 'sugar': 0.0, 'ca...  \n",
       "13  {'calories': 97, 'fat': 0.7, 'sugar': 11.2, 'c...  \n",
       "14  {'calories': 46, 'fat': 0.28, 'sugar': 9.92, '...  \n",
       "15  {'calories': 43, 'fat': 0.2, 'sugar': 8.2, 'ca...  \n",
       "16  {'calories': 21, 'fat': 0.1, 'sugar': 6.4, 'ca...  \n",
       "17  {'calories': 53, 'fat': 0.7, 'sugar': 4.4, 'ca...  \n",
       "18  {'calories': 30, 'fat': 0.2, 'sugar': 6.0, 'ca...  \n",
       "19  {'calories': 29, 'fat': 0.3, 'sugar': 2.5, 'ca...  \n",
       "20  {'calories': 60, 'fat': 0.38, 'sugar': 13.7, '...  \n",
       "21  {'calories': 29, 'fat': 0.4, 'sugar': 5.4, 'ca...  \n",
       "22  {'calories': 52, 'fat': 0.4, 'sugar': 10.3, 'c...  \n",
       "23  {'calories': 68, 'fat': 1.0, 'sugar': 9.0, 'ca...  \n",
       "24  {'calories': 15, 'fat': 0.1, 'sugar': 3.2, 'ca...  \n",
       "25  {'calories': 43, 'fat': 0.4, 'sugar': 1.0, 'ca...  \n",
       "26  {'calories': 34, 'fat': 0.0, 'sugar': 8.0, 'ca...  \n",
       "27  {'calories': 45, 'fat': 0.4, 'sugar': 9.1, 'ca...  \n",
       "28  {'calories': 36, 'fat': 0.4, 'sugar': 3.0, 'ca...  \n",
       "29  {'calories': 25, 'fat': 0.1, 'sugar': 1.7, 'ca...  \n",
       "30  {'calories': 83, 'fat': 1.2, 'sugar': 13.7, 'c...  \n",
       "31  {'calories': 60, 'fat': 1.5, 'sugar': 8.0, 'ca...  \n",
       "32  {'calories': 69, 'fat': 0.16, 'sugar': 16.0, '...  \n",
       "33  {'calories': 43, 'fat': 0.39, 'sugar': 8.1, 'c...  \n",
       "34  {'calories': 44, 'fat': 0.4, 'sugar': 3.0, 'ca...  \n",
       "35  {'calories': 160, 'fat': 14.66, 'sugar': 0.66,...  \n",
       "36  {'calories': 61, 'fat': 0.5, 'sugar': 8.9, 'ca...  \n",
       "37  {'calories': 46, 'fat': 0.1, 'sugar': 4.0, 'ca...  \n",
       "38  {'calories': 50, 'fat': 0.3, 'sugar': 8.0, 'ca...  \n",
       "39  {'calories': 39, 'fat': 0.25, 'sugar': 8.4, 'c...  \n",
       "40  {'calories': 95, 'fat': 0.0, 'sugar': 19.1, 'c...  \n",
       "41  {'calories': 44, 'fat': 1.26, 'sugar': 0.5, 'c...  \n",
       "42  {'calories': 628, 'fat': 61.0, 'sugar': 4.3, '...  \n",
       "43  {'calories': 37, 'fat': 0.0, 'sugar': 8.5, 'ca...  \n",
       "44  {'calories': 73, 'fat': 0.58, 'sugar': 16.11, ...  "
      ]
     },
     "execution_count": 11,
     "metadata": {},
     "output_type": "execute_result"
    }
   ],
   "source": [
    "pd.DataFrame(results)"
   ]
  },
  {
   "cell_type": "markdown",
   "metadata": {},
   "source": [
    "The result is in a nested json format. The 'nutrition' column contains multiple subcolumns, so the data needs to be 'flattened' or normalized.\n"
   ]
  },
  {
   "cell_type": "code",
   "execution_count": null,
   "metadata": {},
   "outputs": [],
   "source": [
    "df2 = pd.json_normalize(results)"
   ]
  },
  {
   "cell_type": "code",
   "execution_count": null,
   "metadata": {},
   "outputs": [],
   "source": [
    "df2"
   ]
  },
  {
   "cell_type": "markdown",
   "metadata": {},
   "source": [
    "Let's see if we can extract some information from this dataframe. Perhaps, we need to know the family and genus of a cherry.\n"
   ]
  },
  {
   "cell_type": "code",
   "execution_count": null,
   "metadata": {},
   "outputs": [],
   "source": [
    "cherry = df2.loc[df2[\"name\"] == 'Cherry']\n",
    "(cherry.iloc[0]['family']) , (cherry.iloc[0]['genus'])"
   ]
  },
  {
   "cell_type": "markdown",
   "metadata": {},
   "source": [
    "## Exercise 2\n",
    "In this Exercise, find out how many calories are contained in a banana.\n"
   ]
  },
  {
   "cell_type": "code",
   "execution_count": null,
   "metadata": {},
   "outputs": [],
   "source": [
    "# Write your code here\n"
   ]
  },
  {
   "cell_type": "markdown",
   "metadata": {},
   "source": [
    "<details><summary>Click here for the solution</summary>\n",
    "\n",
    "```python\n",
    "cal_banana = df2.loc[df2[\"name\"] == 'Banana']\n",
    "cal_banana.iloc[0]['nutritions.calories']\n",
    "```\n",
    "\n",
    "</details>\n"
   ]
  },
  {
   "cell_type": "markdown",
   "metadata": {},
   "source": [
    "## Exercise 3\n",
    "\n",
    "This [page](https://mixedanalytics.com/blog/list-actually-free-open-no-auth-needed-apis/) contains a list of free public APIs for you to practice. Let us deal with the following example.\n",
    "\n",
    "#### Official Joke API \n",
    "This API returns random jokes from a database. The following URL can be used to retrieve 10 random jokes.\n",
    "\n",
    "https://official-joke-api.appspot.com/jokes/ten\n",
    "\n",
    "1. Using `requests.get(\"url\")` function, load the data from the URL.\n"
   ]
  },
  {
   "cell_type": "code",
   "execution_count": 24,
   "metadata": {},
   "outputs": [
    {
     "data": {
      "text/html": [
       "<div>\n",
       "<style scoped>\n",
       "    .dataframe tbody tr th:only-of-type {\n",
       "        vertical-align: middle;\n",
       "    }\n",
       "\n",
       "    .dataframe tbody tr th {\n",
       "        vertical-align: top;\n",
       "    }\n",
       "\n",
       "    .dataframe thead th {\n",
       "        text-align: right;\n",
       "    }\n",
       "</style>\n",
       "<table border=\"1\" class=\"dataframe\">\n",
       "  <thead>\n",
       "    <tr style=\"text-align: right;\">\n",
       "      <th></th>\n",
       "      <th>type</th>\n",
       "      <th>setup</th>\n",
       "      <th>punchline</th>\n",
       "      <th>id</th>\n",
       "    </tr>\n",
       "  </thead>\n",
       "  <tbody>\n",
       "    <tr>\n",
       "      <th>0</th>\n",
       "      <td>general</td>\n",
       "      <td>Why did the burglar hang his mugshot on the wall?</td>\n",
       "      <td>To prove that he was framed!</td>\n",
       "      <td>322</td>\n",
       "    </tr>\n",
       "    <tr>\n",
       "      <th>1</th>\n",
       "      <td>general</td>\n",
       "      <td>What do prisoners use to call each other?</td>\n",
       "      <td>Cell phones.</td>\n",
       "      <td>191</td>\n",
       "    </tr>\n",
       "    <tr>\n",
       "      <th>2</th>\n",
       "      <td>general</td>\n",
       "      <td>What is the hardest part about sky diving?</td>\n",
       "      <td>The ground.</td>\n",
       "      <td>250</td>\n",
       "    </tr>\n",
       "    <tr>\n",
       "      <th>3</th>\n",
       "      <td>general</td>\n",
       "      <td>Why did the rooster cross the road?</td>\n",
       "      <td>He heard that the chickens at KFC were pretty ...</td>\n",
       "      <td>399</td>\n",
       "    </tr>\n",
       "    <tr>\n",
       "      <th>4</th>\n",
       "      <td>general</td>\n",
       "      <td>What did the judge say to the dentist?</td>\n",
       "      <td>Do you swear to pull the tooth, the whole toot...</td>\n",
       "      <td>176</td>\n",
       "    </tr>\n",
       "    <tr>\n",
       "      <th>5</th>\n",
       "      <td>general</td>\n",
       "      <td>Why did the invisible man turn down the job of...</td>\n",
       "      <td>He couldn't see himself doing it</td>\n",
       "      <td>52</td>\n",
       "    </tr>\n",
       "    <tr>\n",
       "      <th>6</th>\n",
       "      <td>general</td>\n",
       "      <td>Why did the man put his money in the freezer?</td>\n",
       "      <td>He wanted cold hard cash!</td>\n",
       "      <td>334</td>\n",
       "    </tr>\n",
       "    <tr>\n",
       "      <th>7</th>\n",
       "      <td>general</td>\n",
       "      <td>I had a dream that I was a muffler last night.</td>\n",
       "      <td>I woke up exhausted!</td>\n",
       "      <td>54</td>\n",
       "    </tr>\n",
       "    <tr>\n",
       "      <th>8</th>\n",
       "      <td>general</td>\n",
       "      <td>What do you give to a lemon in need?</td>\n",
       "      <td>Lemonaid.</td>\n",
       "      <td>75</td>\n",
       "    </tr>\n",
       "    <tr>\n",
       "      <th>9</th>\n",
       "      <td>general</td>\n",
       "      <td>What’s the advantage of living in Switzerland?</td>\n",
       "      <td>Well, the flag is a big plus.</td>\n",
       "      <td>283</td>\n",
       "    </tr>\n",
       "  </tbody>\n",
       "</table>\n",
       "</div>"
      ],
      "text/plain": [
       "      type                                              setup  \\\n",
       "0  general  Why did the burglar hang his mugshot on the wall?   \n",
       "1  general          What do prisoners use to call each other?   \n",
       "2  general         What is the hardest part about sky diving?   \n",
       "3  general                Why did the rooster cross the road?   \n",
       "4  general             What did the judge say to the dentist?   \n",
       "5  general  Why did the invisible man turn down the job of...   \n",
       "6  general      Why did the man put his money in the freezer?   \n",
       "7  general     I had a dream that I was a muffler last night.   \n",
       "8  general               What do you give to a lemon in need?   \n",
       "9  general     What’s the advantage of living in Switzerland?   \n",
       "\n",
       "                                           punchline   id  \n",
       "0                       To prove that he was framed!  322  \n",
       "1                                       Cell phones.  191  \n",
       "2                                        The ground.  250  \n",
       "3  He heard that the chickens at KFC were pretty ...  399  \n",
       "4  Do you swear to pull the tooth, the whole toot...  176  \n",
       "5                   He couldn't see himself doing it   52  \n",
       "6                          He wanted cold hard cash!  334  \n",
       "7                               I woke up exhausted!   54  \n",
       "8                                          Lemonaid.   75  \n",
       "9                      Well, the flag is a big plus.  283  "
      ]
     },
     "execution_count": 24,
     "metadata": {},
     "output_type": "execute_result"
    }
   ],
   "source": [
    "# Write your code here\n",
    "r = requests.get(\"https://official-joke-api.appspot.com/jokes/ten\")\n",
    "results = json.loads(r.text)\n",
    "type(r.text)\n",
    "pd.DataFrame(results)"
   ]
  },
  {
   "cell_type": "markdown",
   "metadata": {},
   "source": [
    "<details><summary>Click here for the solution</summary>\n",
    "\n",
    "```python\n",
    "data2 = requests.get(\"https://official-joke-api.appspot.com/jokes/ten\")\n",
    "```\n",
    "\n",
    "</details>\n"
   ]
  },
  {
   "cell_type": "markdown",
   "metadata": {},
   "source": [
    "2. Retrieve results using `json.loads()` function.\n"
   ]
  },
  {
   "cell_type": "code",
   "execution_count": null,
   "metadata": {},
   "outputs": [],
   "source": [
    "# Write your code here\n"
   ]
  },
  {
   "cell_type": "markdown",
   "metadata": {},
   "source": [
    "<details><summary>Click here for the solution</summary>\n",
    "\n",
    "```python\n",
    "results2 = json.loads(data2.text)\n",
    "```\n",
    "\n",
    "</details>\n"
   ]
  },
  {
   "cell_type": "markdown",
   "metadata": {},
   "source": [
    "3. Convert json data into *pandas* data frame. Drop the type and id columns.\n"
   ]
  },
  {
   "cell_type": "code",
   "execution_count": null,
   "metadata": {},
   "outputs": [],
   "source": [
    "# Write your code here\n"
   ]
  },
  {
   "cell_type": "markdown",
   "metadata": {},
   "source": [
    "<details><summary>Click here for the solution</summary>\n",
    "\n",
    "```python\n",
    "df3 = pd.DataFrame(results2)\n",
    "df3.drop(columns=[\"type\",\"id\"],inplace=True)\n",
    "df3\n",
    "```\n",
    "\n",
    "</details>\n"
   ]
  },
  {
   "cell_type": "markdown",
   "metadata": {},
   "source": [
    "# Congratulations! - You have completed the lab\n"
   ]
  },
  {
   "cell_type": "markdown",
   "metadata": {},
   "source": [
    "## Author\n",
    "<a href=\"https://www.linkedin.com/in/svitlana-kramar\" target=\"_blank\">Svitlana Kramar</a>\n",
    "\n",
    "Svitlana is a master’s degree Data Science and Analytics student at University of Calgary, who enjoys travelling, learning new languages and cultures and loves spreading her passion for Data Science.\n",
    "\n",
    "## Additional Contributor\n",
    "<a href=\"https://www.linkedin.com/in/abhishek-gagneja-23051987/\" target=\"_blank\">Abhishek Gagneja</a>\n"
   ]
  },
  {
   "cell_type": "markdown",
   "metadata": {},
   "source": [
    "Copyright © 2023 IBM Corporation. All rights reserved.\n"
   ]
  }
 ],
 "metadata": {
  "kernelspec": {
   "display_name": "Python",
   "language": "python",
   "name": "conda-env-python-py"
  },
  "language_info": {
   "codemirror_mode": {
    "name": "ipython",
    "version": 3
   },
   "file_extension": ".py",
   "mimetype": "text/x-python",
   "name": "python",
   "nbconvert_exporter": "python",
   "pygments_lexer": "ipython3",
   "version": "3.7.12"
  }
 },
 "nbformat": 4,
 "nbformat_minor": 4
}
